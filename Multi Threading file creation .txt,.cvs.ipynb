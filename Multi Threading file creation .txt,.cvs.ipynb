{
 "cells": [
  {
   "cell_type": "markdown",
   "id": "3402306b-b312-4ea0-b09c-b481110a5362",
   "metadata": {},
   "source": [
    "# multi Threading"
   ]
  },
  {
   "cell_type": "code",
   "execution_count": 23,
   "id": "793b2959-e028-4a80-911d-6d60e734e4ea",
   "metadata": {},
   "outputs": [
    {
     "name": "stdout",
     "output_type": "stream",
     "text": [
      "sq started\n",
      "cub started\n",
      "1.7912306785583496\n"
     ]
    }
   ],
   "source": [
    "import time\n",
    "import threading \n",
    "def calc_sqr(num):\n",
    "    print(\"sq started\")\n",
    "    for n in num:\n",
    "        x=n*n\n",
    "\n",
    "def calc_cub(num):\n",
    "    print(\"cub started\")\n",
    "    for n in num:\n",
    "        x=n*n*n\n",
    "\n",
    "num=[i for i in range(10000000)]\n",
    "\n",
    "t0=time.time()\n",
    "#calc_sqr(num)    \n",
    "#calc_cub(num)\n",
    "\n",
    "th1=threading.Thread(target=calc_sqr,args=(num,))\n",
    "\n",
    "th2=threading.Thread(target=calc_cub,args=(num,))\n",
    "th1.start()\n",
    "th2.start()\n",
    "\n",
    "th1.join()\n",
    "th1.join()\n",
    "\n",
    "t1=time.time()\n",
    "\n",
    "\n",
    "\n",
    "print(t1-t0)\n",
    "\n",
    "\n"
   ]
  },
  {
   "cell_type": "code",
   "execution_count": 28,
   "id": "4bafca9d-5cfb-40fc-881b-1106be197f10",
   "metadata": {},
   "outputs": [
    {
     "name": "stdout",
     "output_type": "stream",
     "text": [
      "['_STRUCT_TM_ITEMS', '__doc__', '__loader__', '__name__', '__package__', '__spec__', 'altzone', 'asctime', 'ctime', 'daylight', 'get_clock_info', 'gmtime', 'localtime', 'mktime', 'monotonic', 'monotonic_ns', 'perf_counter', 'perf_counter_ns', 'process_time', 'process_time_ns', 'sleep', 'strftime', 'strptime', 'struct_time', 'thread_time', 'thread_time_ns', 'time', 'time_ns', 'timezone', 'tzname']\n"
     ]
    }
   ],
   "source": [
    "print(dir(time))"
   ]
  },
  {
   "cell_type": "code",
   "execution_count": 32,
   "id": "dad19a91-68b0-4cf4-8b54-39328adb3273",
   "metadata": {},
   "outputs": [
    {
     "name": "stdout",
     "output_type": "stream",
     "text": [
      "<built-in function ctime>\n"
     ]
    }
   ],
   "source": [
    "print(time.ctime)"
   ]
  },
  {
   "cell_type": "markdown",
   "id": "79768970-1515-4c3c-b32a-3361e0ef60a4",
   "metadata": {},
   "source": [
    "# File Handling\n",
    "\n",
    "1.\"r\"-read\n",
    "2.\"w\"-write\n",
    "3.\"x\"-creating\n",
    "4.\"a\"-append"
   ]
  },
  {
   "cell_type": "code",
   "execution_count": 40,
   "id": "266529bf-ade8-4f04-80d2-4fc7024d88f0",
   "metadata": {},
   "outputs": [
    {
     "data": {
      "text/plain": [
       "<function TextIOWrapper.close()>"
      ]
     },
     "execution_count": 40,
     "metadata": {},
     "output_type": "execute_result"
    }
   ],
   "source": [
    "file1 = open(\"demo1.txt\",\"w\")\n",
    "file1.write(\"the\")\n",
    "file1.close"
   ]
  },
  {
   "cell_type": "code",
   "execution_count": 42,
   "id": "81fbbcb8-4f67-4564-b106-35e9725cc9c4",
   "metadata": {},
   "outputs": [
    {
     "data": {
      "text/plain": [
       "'C:\\\\Users\\\\santhosh.gowda\\\\AI Training'"
      ]
     },
     "execution_count": 42,
     "metadata": {},
     "output_type": "execute_result"
    }
   ],
   "source": [
    "import os\n",
    "os.getcwd()"
   ]
  },
  {
   "cell_type": "code",
   "execution_count": 44,
   "id": "c883941b-b647-40a4-a3dd-693c7cf4abcc",
   "metadata": {},
   "outputs": [
    {
     "name": "stdout",
     "output_type": "stream",
     "text": [
      "the\n"
     ]
    },
    {
     "data": {
      "text/plain": [
       "<function TextIOWrapper.close()>"
      ]
     },
     "execution_count": 44,
     "metadata": {},
     "output_type": "execute_result"
    }
   ],
   "source": [
    "file1 = open(\"demo1.txt\",\"r\")\n",
    "print(file1.read())\n",
    "file1.close"
   ]
  },
  {
   "cell_type": "code",
   "execution_count": 46,
   "id": "c78a1db9-2acc-40c5-9a70-f4bd35f52eb5",
   "metadata": {},
   "outputs": [],
   "source": [
    "with open(\"demo2.txt\",\"w\") as file1:\n",
    "    file1.write(\"there is a issue in DEV\")\n",
    "    "
   ]
  },
  {
   "cell_type": "code",
   "execution_count": 48,
   "id": "6b0e49d9-4059-4835-b6fd-2b75035048dd",
   "metadata": {},
   "outputs": [
    {
     "name": "stdout",
     "output_type": "stream",
     "text": [
      "there is a issue in DEV\n"
     ]
    },
    {
     "data": {
      "text/plain": [
       "<function TextIOWrapper.close()>"
      ]
     },
     "execution_count": 48,
     "metadata": {},
     "output_type": "execute_result"
    }
   ],
   "source": [
    "file1 = open(\"demo2.txt\",\"r\")\n",
    "print(file1.read())\n",
    "file1.close"
   ]
  },
  {
   "cell_type": "code",
   "execution_count": 50,
   "id": "1f8f5ac2-15e4-43e2-954e-e030acbb18be",
   "metadata": {},
   "outputs": [],
   "source": [
    "import csv\n",
    "\n",
    "data = [\n",
    "    {'name': 'Nikhil', 'branch': 'COE', 'year': 2, 'cgpa': 9.0},\n",
    "    {'name': 'Sanchit', 'branch': 'COE', 'year': 2, 'cgpa': 9.1},\n",
    "    {'name': 'Aditya', 'branch': 'IT', 'year': 2, 'cgpa': 9.3},\n",
    "    {'name': 'Sagar', 'branch': 'SE', 'year': 1, 'cgpa': 9.5},\n",
    "    {'name': 'Prateek', 'branch': 'MCE', 'year': 3, 'cgpa': 7.8},\n",
    "    {'name': 'Sahil', 'branch': 'EP', 'year': 2, 'cgpa': 9.1}\n",
    "]\n",
    "\n",
    "column_name=['name','branch','year','cgpa']\n",
    "file_name=\"student details.csv\""
   ]
  },
  {
   "cell_type": "code",
   "execution_count": 56,
   "id": "de40bb2b-1c7d-4499-a6b6-4c94c64cc2f3",
   "metadata": {},
   "outputs": [],
   "source": [
    "with open(file_name,\"w\",newline='') as file1:\n",
    "    data_write=csv.DictWriter(file1,fieldnames=column_name)\n",
    "    data_write.writeheader()\n",
    "    data_write.writerows(data)"
   ]
  },
  {
   "cell_type": "code",
   "execution_count": 62,
   "id": "60d0a57f-c5fa-4363-9814-368dbb10b585",
   "metadata": {},
   "outputs": [
    {
     "name": "stdout",
     "output_type": "stream",
     "text": [
      "14\n",
      "15\n",
      "tata\n",
      "benz\n"
     ]
    }
   ],
   "source": [
    "cars =[14,15,\"tata\",\"benz\"]\n",
    "\n",
    "for _ in cars:\n",
    "    print(_)"
   ]
  },
  {
   "cell_type": "markdown",
   "id": "1ba68d97-8e2e-419c-b104-9c81e444faf6",
   "metadata": {},
   "source": [
    "# JSON"
   ]
  },
  {
   "cell_type": "code",
   "execution_count": 65,
   "id": "cdcd91bb-377f-4f5d-9dea-ba71e71f43d8",
   "metadata": {},
   "outputs": [
    {
     "name": "stdout",
     "output_type": "stream",
     "text": [
      "<class 'dict'>\n",
      "{'car': 1, 'bus': 2, 'train': 3}\n",
      "<class 'str'>\n",
      "{\"car\": 1, \"bus\": 2, \"train\": 3}\n",
      "<class 'dict'>\n",
      "{'car': 1, 'bus': 2, 'train': 3}\n"
     ]
    }
   ],
   "source": [
    "import json\n",
    "x1= {'car':1,'bus':2,'train':3}\n",
    "print(type(x1))\n",
    "print(x1)\n",
    "\n",
    "x1_json = json.dumps(x1)\n",
    "print(type(x1_json))\n",
    "print(x1_json)\n",
    "\n",
    "x1_dict = json.loads(x1_json)\n",
    "print(type(x1_dict))\n",
    "print(x1_dict)"
   ]
  },
  {
   "cell_type": "code",
   "execution_count": null,
   "id": "fac9e43d-1c08-4406-822b-699e40d0096a",
   "metadata": {},
   "outputs": [],
   "source": []
  }
 ],
 "metadata": {
  "kernelspec": {
   "display_name": "Python 3 (ipykernel)",
   "language": "python",
   "name": "python3"
  },
  "language_info": {
   "codemirror_mode": {
    "name": "ipython",
    "version": 3
   },
   "file_extension": ".py",
   "mimetype": "text/x-python",
   "name": "python",
   "nbconvert_exporter": "python",
   "pygments_lexer": "ipython3",
   "version": "3.12.4"
  }
 },
 "nbformat": 4,
 "nbformat_minor": 5
}
