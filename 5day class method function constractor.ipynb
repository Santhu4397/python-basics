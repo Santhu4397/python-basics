{
 "cells": [
  {
   "cell_type": "code",
   "execution_count": 183,
   "id": "9bc10615-ea9e-4598-b501-bf93b33b6b18",
   "metadata": {},
   "outputs": [
    {
     "name": "stdout",
     "output_type": "stream",
     "text": [
      "santhosh gowda\n",
      "harish.m@gmail.com\n",
      "4000\n",
      "16000\n",
      "2800.0\n",
      "2\n",
      "14000.0\n"
     ]
    }
   ],
   "source": [
    "class Employee():\n",
    "\n",
    "    rate=1.4\n",
    "    num_of_emp=0\n",
    "    \n",
    "    def __init__(self,first,last,pay):  # when you put 'self' the rest of the variables are mapped to the class\n",
    "        self.first = first\n",
    "        self.last = last\n",
    "        self.email = first+\".\"+last+\"@gmail.com\"\n",
    "        self.pay = pay\n",
    "        Employee.num_of_emp +=1\n",
    "    def fullname(self):\n",
    "        return '{} {}'.format(self.first,self.last)\n",
    "    def temail(self):\n",
    "        return ''+self.email\n",
    "    def add(self):\n",
    "        return self.pay*self.rate\n",
    "    def apply_raise(self,rate):\n",
    "        return self.pay * rate\n",
    "\n",
    "    @classmethod\n",
    "    def set_raise_amt(self,rate):\n",
    "        self.rate=rate\n",
    "    @classmethod\n",
    "    def from_string(self,emp_str):\n",
    "        first,last,pay=emp_str.split(',')\n",
    "        return Employee(first,last,pay)\n",
    "        \n",
    "    @staticmethod\n",
    "    def is_it_workingday(date):\n",
    "        if date.weekday()==5 or date.weekday()==6:\n",
    "            return False\n",
    "        return True\n",
    "\n",
    "\n",
    "\n",
    "emp1 = Employee(\"santhosh\",\"gowda\",2000)\n",
    "emp2 = Employee(\"harish\",\"m\",4000)\n",
    "\n",
    "print(emp1.fullname())\n",
    "print(emp2.temail())\n",
    "print(emp2.pay)\n",
    "print(emp2.apply_raise(4))\n",
    "print(emp1.add())\n",
    "\n",
    "print(Employee.num_of_emp)\n",
    "\n",
    "emp1.set_raise_amt(7.0)\n",
    "\n",
    "print(emp1.add())\n",
    "\n"
   ]
  },
  {
   "cell_type": "code",
   "execution_count": 173,
   "id": "c35a0db0-2b63-468c-ab24-23a3f579f910",
   "metadata": {},
   "outputs": [
    {
     "name": "stdout",
     "output_type": "stream",
     "text": [
      "Santhos G\n",
      "Santhos.G@gmail.com\n",
      "12500\n"
     ]
    }
   ],
   "source": [
    "emp4=Employee.from_string(\"Santhos,G,12500\")\n",
    "\n",
    "print(emp4.fullname())\n",
    "print(emp4.temail())\n",
    "print(emp4.pay)"
   ]
  },
  {
   "cell_type": "code",
   "execution_count": 193,
   "id": "15cbff55-3377-42b2-9a1d-b0269c885fce",
   "metadata": {},
   "outputs": [
    {
     "name": "stdout",
     "output_type": "stream",
     "text": [
      "False\n"
     ]
    },
    {
     "data": {
      "text/plain": [
       "True"
      ]
     },
     "execution_count": 193,
     "metadata": {},
     "output_type": "execute_result"
    }
   ],
   "source": [
    "import datetime\n",
    "\n",
    "date1 =date.today()\n",
    "date2=datetime.date(2024,8,11)\n",
    "\n",
    "\n",
    "print(Employee.is_it_workingday(date2))\n",
    "Employee.is_it_workingday(date1)"
   ]
  },
  {
   "cell_type": "code",
   "execution_count": null,
   "id": "1ea007ff-edf3-436a-b4e0-76eb3b75bc92",
   "metadata": {},
   "outputs": [],
   "source": []
  },
  {
   "cell_type": "code",
   "execution_count": null,
   "id": "dee79016-63a5-4c09-afce-646887b74745",
   "metadata": {},
   "outputs": [],
   "source": []
  }
 ],
 "metadata": {
  "kernelspec": {
   "display_name": "Python 3 (ipykernel)",
   "language": "python",
   "name": "python3"
  },
  "language_info": {
   "codemirror_mode": {
    "name": "ipython",
    "version": 3
   },
   "file_extension": ".py",
   "mimetype": "text/x-python",
   "name": "python",
   "nbconvert_exporter": "python",
   "pygments_lexer": "ipython3",
   "version": "3.12.4"
  }
 },
 "nbformat": 4,
 "nbformat_minor": 5
}
