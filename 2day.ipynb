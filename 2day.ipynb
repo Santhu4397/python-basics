{
 "cells": [
  {
   "cell_type": "code",
   "execution_count": 3,
   "id": "bb8e9dca-6d8f-4270-80e3-73e4c36ba8e0",
   "metadata": {},
   "outputs": [
    {
     "name": "stdout",
     "output_type": "stream",
     "text": [
      "3.12.4 | packaged by Anaconda, Inc. | (main, Jun 18 2024, 15:03:56) [MSC v.1929 64 bit (AMD64)]\n"
     ]
    }
   ],
   "source": [
    "import sys\n",
    "\n",
    "print(sys.version)"
   ]
  },
  {
   "cell_type": "code",
   "execution_count": 9,
   "id": "d02d9d33-4799-43d0-9e0e-34fc40edb472",
   "metadata": {},
   "outputs": [
    {
     "name": "stdout",
     "output_type": "stream",
     "text": [
      "3.12.4\n"
     ]
    }
   ],
   "source": [
    "import platform \n",
    "\n",
    "print(platform.python_version())"
   ]
  },
  {
   "cell_type": "code",
   "execution_count": 11,
   "id": "deee8e0e-2067-4fb9-96d0-8d28b1de5685",
   "metadata": {},
   "outputs": [
    {
     "name": "stdout",
     "output_type": "stream",
     "text": [
      "hello word\n"
     ]
    }
   ],
   "source": [
    "print('hello word')"
   ]
  },
  {
   "cell_type": "code",
   "execution_count": 15,
   "id": "7ff3f463-b763-4d7d-b8d7-d2090a184c88",
   "metadata": {},
   "outputs": [
    {
     "name": "stdout",
     "output_type": "stream",
     "text": [
      "hello word\n"
     ]
    }
   ],
   "source": [
    "print(\"hello word\")#this comment\n",
    "\"\"\"this is comment \"\"\"\n",
    "'''this is comment '''"
   ]
  },
  {
   "cell_type": "code",
   "execution_count": 23,
   "id": "6dcf4832-76c6-4485-b4c6-401ee3cce000",
   "metadata": {},
   "outputs": [
    {
     "name": "stdout",
     "output_type": "stream",
     "text": [
      "hello wordI am woring on Python\n",
      "hello word I am woring on Python\n",
      "hello word I am woring on Python\n"
     ]
    }
   ],
   "source": [
    "a='hello word'\n",
    "b='I am woring on Python'\n",
    "print(a+b)\n",
    "print(a,b)\n",
    "print(a+\" \"+b)"
   ]
  },
  {
   "cell_type": "markdown",
   "id": "27793821-fd8c-4cfa-8a8d-d6a1872c67cf",
   "metadata": {},
   "source": [
    "# Builtin function - capitalize/upper/lower/title/swapcase"
   ]
  },
  {
   "cell_type": "code",
   "execution_count": 51,
   "id": "15f63227-029f-4afe-9183-dddeb459913d",
   "metadata": {},
   "outputs": [
    {
     "name": "stdout",
     "output_type": "stream",
     "text": [
      "SANTHOSH GOWDA\n",
      "Santhosh gowda\n",
      "SANTHOSH GOWDA\n",
      "santhosh gowda\n",
      "Santhosh Gowda\n",
      "sAnTHOsh gOWdA\n"
     ]
    }
   ],
   "source": [
    "s =\"SaNthoSH GowDa\"\n",
    "s1=s.upper()\n",
    "print(s1)\n",
    "print(s.capitalize())\n",
    "print(s.upper())\n",
    "print(s.lower())\n",
    "print(s.title())\n",
    "print(s.swapcase())"
   ]
  },
  {
   "cell_type": "code",
   "execution_count": 47,
   "id": "d6ce4f51-d760-40b0-a649-2291c9e83e39",
   "metadata": {},
   "outputs": [
    {
     "name": "stdout",
     "output_type": "stream",
     "text": [
      "Help on built-in function capitalize:\n",
      "\n",
      "capitalize() method of builtins.str instance\n",
      "    Return a capitalized version of the string.\n",
      "\n",
      "    More specifically, make the first character have upper case and the rest lower\n",
      "    case.\n",
      "\n",
      "No Python documentation found for 'SANTHOSH GOWDA'.\n",
      "Use help() to get the interactive help utility.\n",
      "Use help(str) for help on the str class.\n",
      "\n",
      "No Python documentation found for 'santhosh gowda'.\n",
      "Use help() to get the interactive help utility.\n",
      "Use help(str) for help on the str class.\n",
      "\n",
      "No Python documentation found for 'Santhosh Gowda'.\n",
      "Use help() to get the interactive help utility.\n",
      "Use help(str) for help on the str class.\n",
      "\n",
      "No Python documentation found for 'sAnTHOsh gOWdA'.\n",
      "Use help() to get the interactive help utility.\n",
      "Use help(str) for help on the str class.\n",
      "\n"
     ]
    }
   ],
   "source": [
    "help(s.capitalize)\n",
    "help(s.upper)\n",
    "help(s.lower)\n",
    "help(s.title)\n",
    "help(s.swapcase)"
   ]
  },
  {
   "cell_type": "markdown",
   "id": "c82c1cee-fbd5-4e38-9c1a-19353a709351",
   "metadata": {},
   "source": [
    "# builtin function - count/isalnum/istrip/strip/rstrip"
   ]
  },
  {
   "cell_type": "code",
   "execution_count": 61,
   "id": "9d155ace-d791-43b3-b92b-e679f41598b7",
   "metadata": {},
   "outputs": [
    {
     "name": "stdout",
     "output_type": "stream",
     "text": [
      "3\n",
      "Help on built-in function count:\n",
      "\n",
      "count(...) method of builtins.str instance\n",
      "    S.count(sub[, start[, end]]) -> int\n",
      "\n",
      "    Return the number of non-overlapping occurrences of substring sub in\n",
      "    string S[start:end].  Optional arguments start and end are\n",
      "    interpreted as in slice notation.\n",
      "\n"
     ]
    }
   ],
   "source": [
    "a='Dread thread Spread'\n",
    "a1 = a.count('read')\n",
    "print(a1)\n",
    "help(a.count)"
   ]
  },
  {
   "cell_type": "code",
   "execution_count": 111,
   "id": "7185f97d-a453-478c-8cac-6e8f7e993784",
   "metadata": {},
   "outputs": [
    {
     "name": "stdout",
     "output_type": "stream",
     "text": [
      "True\n",
      "False\n",
      "False\n",
      "True\n",
      "Help on built-in function isprintable:\n",
      "\n",
      "isprintable() method of builtins.str instance\n",
      "    Return True if the string is printable, False otherwise.\n",
      "\n",
      "    A string is printable if all of its characters are considered printable in\n",
      "    repr() or if it is empty.\n",
      "\n"
     ]
    }
   ],
   "source": [
    "s = \"the\"\n",
    "s1 =\"Hello2023 कखग\"\n",
    "s2=\"the \"\n",
    "s3=' '\n",
    "print(s.isascii())\n",
    "print(s1.isascii())\n",
    "print(s2.isidentifier())\n",
    "print(s3.isprintable())\n",
    "help(s.isprintable)"
   ]
  },
  {
   "cell_type": "code",
   "execution_count": 149,
   "id": "ea8ced42-c122-4d3f-90e0-5b06cc17fff7",
   "metadata": {},
   "outputs": [
    {
     "name": "stdout",
     "output_type": "stream",
     "text": [
      "removes the space from left handNothing is    going  on  :   \n",
      "removes the space from right hand    Nothing is    going  on  :\n",
      "removes the space at both the endNothing is    going  on  :\n",
      "['Nothing', 'is', 'going', 'on', ':']\n",
      "Nothingisgoingon:\n"
     ]
    }
   ],
   "source": [
    "a = \"    Nothing is    going  on  :   \"\n",
    "a1=a.lstrip()\n",
    "print('removes the space from left hand'+a1)\n",
    "a2=a.rstrip()\n",
    "print('removes the space from right hand'+a2)\n",
    "a3=a.strip()\n",
    "print('removes the space at both the end'+a3)\n",
    "a4=a.split()\n",
    "print(a4)\n",
    "a5=\"\".join(a4)\n",
    "print(a5)"
   ]
  },
  {
   "cell_type": "markdown",
   "id": "996e22b6-1a2f-42e0-bcde-76e0f7b706a9",
   "metadata": {},
   "source": [
    "# Buitin - formate function\n"
   ]
  },
  {
   "cell_type": "code",
   "execution_count": 165,
   "id": "bff0d517-e9ba-4488-95f6-a9c950b296f4",
   "metadata": {},
   "outputs": [
    {
     "name": "stdout",
     "output_type": "stream",
     "text": [
      "My name is Santhosh, age is 24 , and from India\n",
      "My name is Santhosh, age is 24 , and from India\n",
      "My name is Santhosh, age is 24 , and from India\n",
      "My name is Santhosh, age is 24 , and from India\n"
     ]
    }
   ],
   "source": [
    "txt =\"My name is {name}, age is {age} , and from {country}\" # {} it is a placeholder\n",
    "txt1=txt.format(name='Santhosh',age='24',country='India')\n",
    "print(txt1)\n",
    "\n",
    "txt2 =\"My name is {name}, age is {age} , and from {country}\".format(name='Santhosh',age='24',country='India')\n",
    "print(txt2)\n",
    "\n",
    "txt3 = \"My name is {0}, age is {1} , and from {2}\".format('Santhosh','24','India')\n",
    "print(txt3)\n",
    "\n",
    "txt4 = \"My name is {}, age is {} , and from {}\".format('Santhosh','24','India')\n",
    "print(txt4)"
   ]
  },
  {
   "cell_type": "markdown",
   "id": "1b97a22b-2dcb-4dbb-882c-51eb3a8c09c9",
   "metadata": {},
   "source": [
    "# Slicing"
   ]
  },
  {
   "cell_type": "code",
   "execution_count": 191,
   "id": "b3457214-f7d4-4232-9ed3-64bbab78edd0",
   "metadata": {},
   "outputs": [
    {
     "name": "stdout",
     "output_type": "stream",
     "text": [
      "Pytho\n",
      "Python\n",
      "Pytho\n"
     ]
    }
   ],
   "source": [
    "s= \"Monty Python\"\n",
    "print(s[6:11])# it will pick 6th index value not 11\n",
    "print(s[6:])# it will start from 6th index will print everting from there\n",
    "print(s[-6:-1])\n"
   ]
  },
  {
   "cell_type": "markdown",
   "id": "4aeef008-731f-4fff-87bc-4450850c22b3",
   "metadata": {},
   "source": [
    "# Python Basic Datatypes"
   ]
  },
  {
   "cell_type": "code",
   "execution_count": 210,
   "id": "3721fe6e-7398-42e3-9d3c-64d2f48c6361",
   "metadata": {},
   "outputs": [
    {
     "name": "stdout",
     "output_type": "stream",
     "text": [
      "2024.0\n",
      "<class 'float'>\n",
      "\n",
      "2024\n",
      "<class 'int'>\n",
      "\n",
      "2024.0\n",
      "<class 'str'>\n"
     ]
    }
   ],
   "source": [
    "q= 2024.0\n",
    "print(q)\n",
    "print(type(q))\n",
    "print()# move to next line\n",
    "\n",
    "q2=int(q)\n",
    "print(q2)\n",
    "print(type(q2))\n",
    "print()\n",
    "\n",
    "q3=str(q)\n",
    "print(q3)\n",
    "print(type(q3))\n",
    "\n"
   ]
  },
  {
   "cell_type": "markdown",
   "id": "044d0228-7d24-4e7f-b180-cb4f09882dbb",
   "metadata": {},
   "source": [
    "# Input function"
   ]
  },
  {
   "cell_type": "code",
   "execution_count": 213,
   "id": "58dbd1d5-2958-4482-a151-4a25221e5617",
   "metadata": {},
   "outputs": [
    {
     "name": "stdin",
     "output_type": "stream",
     "text": [
      "enter the name santhosh\n"
     ]
    }
   ],
   "source": [
    "x=input(\"enter the name\")\n",
    "print(x)"
   ]
  },
  {
   "cell_type": "code",
   "execution_count": 254,
   "id": "811624f9-417e-4763-896a-4b34e5add10c",
   "metadata": {},
   "outputs": [
    {
     "name": "stdin",
     "output_type": "stream",
     "text": [
      "Enter the number 1\n"
     ]
    },
    {
     "name": "stdout",
     "output_type": "stream",
     "text": [
      "3\n",
      "addition  3\n",
      "\n",
      "subraction  1\n",
      "\n",
      "multip 2\n",
      "\n",
      "dividetion 1.0\n",
      "\n",
      "1.0\n",
      "modules 1.0\n",
      "Exponent 1.0\n",
      "\n",
      "Floor Division 1.0\n",
      "\n"
     ]
    }
   ],
   "source": [
    "x=int(input(\"Enter the number\"))\n",
    "y=x+2\n",
    "x+=2\n",
    "\n",
    "print(y)\n",
    "print(\"addition \",x)\n",
    "print()\n",
    "\n",
    "x-=2\n",
    "print(\"subraction \",x)\n",
    "print()\n",
    "\n",
    "x*=2\n",
    "print(\"multip\",x)\n",
    "print()\n",
    "\n",
    "x/=2\n",
    "print(\"dividetion\",x)\n",
    "print()\n",
    "\n",
    "x%=2\n",
    "print(x)\n",
    "print(\"modules\",x)\n",
    "\n",
    "x**=2\n",
    "print(\"Exponent\",x)\n",
    "print()\n",
    "\n",
    "x//=1\n",
    "print(\"Floor Division\",x)\n",
    "print()"
   ]
  },
  {
   "cell_type": "code",
   "execution_count": 274,
   "id": "ac334908-7f26-47fe-b5c6-4d6ee1b5a966",
   "metadata": {},
   "outputs": [
    {
     "name": "stdout",
     "output_type": "stream",
     "text": [
      "True\n",
      "False\n",
      "True\n",
      "True\n",
      "False\n"
     ]
    }
   ],
   "source": [
    "x=10\n",
    "y=2\n",
    "z=2\n",
    "print(z==y)\n",
    "print(z>x)\n",
    "print(z<x)\n",
    "print(z>=y)\n",
    "print(z!=y)"
   ]
  },
  {
   "cell_type": "code",
   "execution_count": null,
   "id": "792b4d58-6c67-43e8-af8b-03b7dc803085",
   "metadata": {},
   "outputs": [],
   "source": []
  }
 ],
 "metadata": {
  "kernelspec": {
   "display_name": "Python 3 (ipykernel)",
   "language": "python",
   "name": "python3"
  },
  "language_info": {
   "codemirror_mode": {
    "name": "ipython",
    "version": 3
   },
   "file_extension": ".py",
   "mimetype": "text/x-python",
   "name": "python",
   "nbconvert_exporter": "python",
   "pygments_lexer": "ipython3",
   "version": "3.12.4"
  }
 },
 "nbformat": 4,
 "nbformat_minor": 5
}
