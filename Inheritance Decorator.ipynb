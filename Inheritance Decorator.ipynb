{
 "cells": [
  {
   "cell_type": "markdown",
   "id": "722e51a9-85e3-49d0-a688-cff12c45bf60",
   "metadata": {},
   "source": [
    "# Inheritance"
   ]
  },
  {
   "cell_type": "code",
   "execution_count": 4,
   "id": "3fbcb395-5269-4bd7-9b9d-88edad06d747",
   "metadata": {},
   "outputs": [
    {
     "name": "stdout",
     "output_type": "stream",
     "text": [
      "santhosh gowda\n",
      "harish.m@gmail.com\n"
     ]
    },
    {
     "data": {
      "text/plain": [
       "'santhosh.gowda@gmail.com'"
      ]
     },
     "execution_count": 4,
     "metadata": {},
     "output_type": "execute_result"
    }
   ],
   "source": [
    "class Employee():\n",
    "\n",
    "    rate=1.4\n",
    "    num_of_emp=0\n",
    "    \n",
    "    def __init__(self,first,last,pay):  # when you put 'self' the rest of the variables are mapped to the class\n",
    "        self.first = first\n",
    "        self.last = last\n",
    "        self.email = first+\".\"+last+\"@gmail.com\"\n",
    "        self.pay = pay\n",
    "        Employee.num_of_emp +=1\n",
    "    def fullname(self):\n",
    "        return '{} {}'.format(self.first,self.last)\n",
    "    def temail(self):\n",
    "        return ''+self.email\n",
    "    def add(self):\n",
    "        return self.pay*self.rate\n",
    "    def apply_raise(self,rate):\n",
    "        return self.pay * rate\n",
    "\n",
    "    @classmethod\n",
    "    def set_raise_amt(self,rate):\n",
    "        self.rate=rate\n",
    "    @classmethod\n",
    "    def from_string(self,emp_str):\n",
    "        first,last,pay=emp_str.split(',')\n",
    "        return Employee(first,last,pay)\n",
    "        \n",
    "    @staticmethod\n",
    "    def is_it_workingday(date):\n",
    "        if date.weekday()==5 or date.weekday()==6:\n",
    "            return False\n",
    "        return True\n",
    "\n",
    "\n",
    "\n",
    "emp1 = Employee(\"santhosh\",\"gowda\",2000)\n",
    "emp2 = Employee(\"harish\",\"m\",4000)\n",
    "\n",
    "print(emp1.fullname())\n",
    "print(emp2.temail())\n",
    "\n",
    "class Developer(Employee):\n",
    "    pass\n",
    "\n",
    "dev1 = Developer(\"santhosh\",\"gowda\",2000)\n",
    "dev2 = Developer(\"harish\",\"m\",4000)\n",
    "\n",
    "dev1.temail()\n",
    "\n",
    "\n"
   ]
  },
  {
   "cell_type": "code",
   "execution_count": 38,
   "id": "50acf610-b46c-41cd-8b1f-067c0d1690c0",
   "metadata": {},
   "outputs": [
    {
     "name": "stdout",
     "output_type": "stream",
     "text": [
      "4000\n",
      "8000\n",
      "santhosh gowda your got hike of : 2 % total hike amount you got: 4000\n",
      "harish m your got hike of: 2 % total hike amount you got: 12000\n",
      "8000\n",
      "16000\n",
      "santhosh gowda your got hike of : 4 % total hike amount you got: 8000\n",
      "harish m your got hike of: 4 % total hike amount you got: 12000\n"
     ]
    }
   ],
   "source": [
    "class Employee():\n",
    "\n",
    "    rate=2\n",
    "    num_of_emp=0\n",
    "    \n",
    "    def __init__(self,first,last,pay):  # when you put 'self' the rest of the variables are mapped to the class\n",
    "        self.first = first\n",
    "        self.last = last\n",
    "        self.email = first+\".\"+last+\"@gmail.com\"\n",
    "        self.pay = pay\n",
    "        Employee.num_of_emp +=1\n",
    "    def fullname(self):\n",
    "        return '{} {}'.format(self.first,self.last)\n",
    "    def temail(self):\n",
    "        return ''+self.email\n",
    "    def add(self):\n",
    "        return self.pay*self.rate\n",
    "    def apply_raise(self,rate):\n",
    "        return self.pay * rate\n",
    "\n",
    "    @classmethod\n",
    "    def set_raise_amt(self,rate):\n",
    "        self.rate=rate\n",
    "    @classmethod\n",
    "    def from_string(self,emp_str):\n",
    "        first,last,pay=emp_str.split(',')\n",
    "        return Employee(first,last,pay)\n",
    "        \n",
    "    @staticmethod\n",
    "    def is_it_workingday(date):\n",
    "        if date.weekday()==5 or date.weekday()==6:\n",
    "            return False\n",
    "        return True\n",
    "\n",
    "\n",
    "\n",
    "emp1 = Employee(\"santhosh\",\"gowda\",2000)\n",
    "emp2 = Employee(\"harish\",\"m\",4000)\n",
    "\n",
    "print(emp1.add())\n",
    "print(emp2.add())\n",
    "print(emp1.fullname(),\"your got hike of :\",emp1.rate,\"%\",\"total hike amount you got:\",emp1.add())\n",
    "print(emp2.fullname(),\"your got hike of:\",emp2.rate,\"%\",\"total hike amount you got:\",emp2.apply_raise(3))\n",
    "\n",
    "\n",
    "class Developer(Employee):\n",
    "  rate=4\n",
    "\n",
    "dev1 = Developer(\"santhosh\",\"gowda\",2000)\n",
    "dev2 = Developer(\"harish\",\"m\",4000)\n",
    "\n",
    "print(dev1.add())\n",
    "print(dev2.add())\n",
    "print(dev1.fullname(),\"your got hike of :\",dev1.rate,\"%\",\"total hike amount you got:\",dev1.add())\n",
    "print(dev2.fullname(),\"your got hike of:\",dev2.rate,\"%\",\"total hike amount you got:\",dev2.apply_raise(3))\n",
    "\n",
    "\n"
   ]
  },
  {
   "cell_type": "code",
   "execution_count": 108,
   "id": "518f6610-5f75-41e1-acfb-34ba0d5c5c7c",
   "metadata": {},
   "outputs": [
    {
     "name": "stdout",
     "output_type": "stream",
     "text": [
      "Santhosh G\n",
      "RTR201912\n"
     ]
    }
   ],
   "source": [
    "class customer():\n",
    "\n",
    "    def __init__(self,firstName,lastName,lang):\n",
    "        self.firstName=firstName\n",
    "        self.lastName=lastName\n",
    "        self.lang=lang\n",
    "        self.email = firstName+\".\"+lastName+\"@gmail.com\"\n",
    "\n",
    "\n",
    "    def username(self):\n",
    "        return '{} {}'.format(self.firstName,self.lastName)\n",
    "\n",
    "\n",
    "class vehicle(customer):\n",
    "    \n",
    "    def __init__(self, firstName, lastName, lang, vehicleMake, modelName, year):\n",
    "        super().__init__(firstName, lastName, lang)\n",
    "        self.vehicleMake = vehicleMake\n",
    "        self.modelName = modelName\n",
    "        self.year = year\n",
    "   # def __init__(modlename,year):\n",
    "     #   self.modlename=modlename\n",
    "      #  self.year=year\n",
    "\n",
    "    def vehicleDetials(self):\n",
    "        return '{}{}{}'.format(self.vehicleMake,self.modelName,self.year )\n",
    "\n",
    "\n",
    "cut1 = customer(\"Santhosh\",\"G\",\"kannada\")\n",
    "\n",
    "veh1 = vehicle(\"Santhosh\",\"G\",\"kannada\",\"RTR\",\"2019\", \"12\")\n",
    "print(veh1.username())\n",
    "print(veh1.vehicleDetials())\n",
    "    \n",
    "    "
   ]
  },
  {
   "cell_type": "markdown",
   "id": "047fb47a-0514-4568-a7fc-fff1cad3dee6",
   "metadata": {},
   "source": [
    "# Special/Dundar/magic Method"
   ]
  },
  {
   "cell_type": "markdown",
   "id": "80f6f75a-3cbf-4656-937c-53ebbdcf9417",
   "metadata": {},
   "source": [
    "# Iterator & Generator"
   ]
  },
  {
   "cell_type": "code",
   "execution_count": 123,
   "id": "4e1a0213-8162-4934-b8ce-37c20d813e78",
   "metadata": {},
   "outputs": [
    {
     "name": "stdout",
     "output_type": "stream",
     "text": [
      "1\n",
      "2\n",
      "3\n",
      "4\n"
     ]
    }
   ],
   "source": [
    "x=[1,2,3,4,5]\n",
    "\n",
    "obj=iter(x)#Iterator \n",
    "print(next(obj))\n",
    "print(next(obj))\n",
    "print(next(obj))\n",
    "print(next(obj))\n"
   ]
  },
  {
   "cell_type": "code",
   "execution_count": 127,
   "id": "74360112-913d-4daa-a9b6-d4caea3d7d0c",
   "metadata": {},
   "outputs": [
    {
     "name": "stdout",
     "output_type": "stream",
     "text": [
      "1\n",
      "2\n",
      "3\n",
      "4\n"
     ]
    }
   ],
   "source": [
    "# generator\n",
    "def num():\n",
    "    x=[1,2,3,4,5]\n",
    "    for item in x:\n",
    "        yield item\n",
    "\n",
    "obj=num()\n",
    "print(next(obj))\n",
    "print(next(obj))\n",
    "print(next(obj))\n",
    "print(next(obj))"
   ]
  },
  {
   "cell_type": "markdown",
   "id": "58d97599-dd4c-4335-831b-921d03890eed",
   "metadata": {},
   "source": [
    "# Decorator"
   ]
  },
  {
   "cell_type": "code",
   "execution_count": 146,
   "id": "8cf2025f-a49c-4612-acd5-5b74402eb540",
   "metadata": {},
   "outputs": [
    {
     "name": "stdout",
     "output_type": "stream",
     "text": [
      "program started\n",
      "I am inside inner Function\n",
      "inside ordinary\n",
      "inside func()\n"
     ]
    }
   ],
   "source": [
    "def make_pretty(func):\n",
    "    print(\"program started\")\n",
    "    def innerFunc():\n",
    "        print(\"I am inside inner Function\")\n",
    "        func()\n",
    "        print(\"inside func()\")\n",
    "    return innerFunc\n",
    "    \n",
    "@make_pretty\n",
    "def ordinary():\n",
    "    print(\"inside ordinary\")\n",
    "\n",
    "ordinary()"
   ]
  },
  {
   "cell_type": "code",
   "execution_count": 181,
   "id": "028e091d-f5a0-41ac-9284-6da4278814f8",
   "metadata": {},
   "outputs": [
    {
     "data": {
      "text/plain": [
       "3600"
      ]
     },
     "execution_count": 181,
     "metadata": {},
     "output_type": "execute_result"
    }
   ],
   "source": [
    "def decor2(func):\n",
    "    def inner():\n",
    "        return func() * func()\n",
    "       # return x *x\n",
    "    return inner\n",
    "\n",
    "def decor1(func):\n",
    "    def inner():\n",
    "        return func() * 2\n",
    "       # return x *x\n",
    "    return inner\n",
    "\n",
    "def decor(func):\n",
    "    def inner():\n",
    "        return func() * 3 #60\n",
    "       # return x *x\n",
    "    return inner\n",
    "@decor2\n",
    "@decor1\n",
    "@decor\n",
    "def num():\n",
    "    return 10\n",
    "\n",
    "num()"
   ]
  },
  {
   "cell_type": "code",
   "execution_count": null,
   "id": "60941e23-071d-413f-8f61-ab350b716143",
   "metadata": {},
   "outputs": [],
   "source": []
  }
 ],
 "metadata": {
  "kernelspec": {
   "display_name": "Python 3 (ipykernel)",
   "language": "python",
   "name": "python3"
  },
  "language_info": {
   "codemirror_mode": {
    "name": "ipython",
    "version": 3
   },
   "file_extension": ".py",
   "mimetype": "text/x-python",
   "name": "python",
   "nbconvert_exporter": "python",
   "pygments_lexer": "ipython3",
   "version": "3.12.4"
  }
 },
 "nbformat": 4,
 "nbformat_minor": 5
}
