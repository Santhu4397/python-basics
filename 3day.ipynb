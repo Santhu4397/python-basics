{
 "cells": [
  {
   "cell_type": "markdown",
   "id": "09e0e97f-3f6e-4312-bc13-b544dc9c2c8d",
   "metadata": {},
   "source": [
    "# IF Condtion"
   ]
  },
  {
   "cell_type": "code",
   "execution_count": null,
   "id": "ebee3f97-a7cf-42b3-a517-8fa526604fea",
   "metadata": {},
   "outputs": [],
   "source": [
    "x=int(input(\"Enter the number\"))\n",
    "\n",
    "if x>0:\n",
    "    print(\"x is greater than 0\")\n",
    "elif x<0:\n",
    "    print(\"x is lesser than o\")\n",
    "else:\n",
    "    print(\"x is equal to zero\")"
   ]
  },
  {
   "cell_type": "code",
   "execution_count": null,
   "id": "534ba0ea-5b72-4385-ace4-c2ce4de82f77",
   "metadata": {},
   "outputs": [],
   "source": [
    "number = int(input(\"Enter the number\"))\n",
    "\n",
    "if number%2 ==0:\n",
    "    print(\"it is a even number \")\n",
    "elif number%3 ==0:\n",
    "    print(\"it is a odd number\")\n",
    "else:\n",
    "    print (\"Not sure\")"
   ]
  },
  {
   "cell_type": "markdown",
   "id": "85a627e1-a6d7-44cf-97cf-e4b5e54ce8a4",
   "metadata": {},
   "source": [
    "# While loop"
   ]
  },
  {
   "cell_type": "code",
   "execution_count": null,
   "id": "b6571c80-c778-42c9-819e-d2e36e1ec8ae",
   "metadata": {},
   "outputs": [],
   "source": [
    "i =1\n",
    "\n",
    "while i<=6:\n",
    "    print(i)\n",
    "\n",
    "    if(i==5):\n",
    "        break\n",
    "    i+= 1\n",
    "    \n"
   ]
  },
  {
   "cell_type": "code",
   "execution_count": 13,
   "id": "f6568c09-52d3-4cd4-ba2b-fbf3f563e99b",
   "metadata": {},
   "outputs": [
    {
     "name": "stdin",
     "output_type": "stream",
     "text": [
      "enter the number 1\n"
     ]
    },
    {
     "name": "stdout",
     "output_type": "stream",
     "text": [
      "1\n",
      "2\n",
      "3 is not the relevant number\n",
      "3\n",
      "4\n",
      "5\n"
     ]
    }
   ],
   "source": [
    "x = int(input(\"enter the number\"))\n",
    "while x<=5:\n",
    "    print(x)\n",
    "    x +=1\n",
    "    if(x==3):\n",
    "        print(x,\"is not the relevant number\")\n",
    "        \n"
   ]
  },
  {
   "cell_type": "markdown",
   "id": "fabfbb7c-f617-476c-b8a4-76cbce807c9f",
   "metadata": {},
   "source": [
    "# for loop"
   ]
  },
  {
   "cell_type": "code",
   "execution_count": 11,
   "id": "6ac1fded-53b5-4559-bde5-7ee0467ed512",
   "metadata": {},
   "outputs": [
    {
     "name": "stdout",
     "output_type": "stream",
     "text": [
      "TVS 2019 160\n",
      "TVS 2019 150\n",
      "TVS 2019 100\n",
      "TVS 2020 160\n",
      "TVS 2020 150\n",
      "TVS 2020 100\n",
      "TVS 2021 160\n",
      "TVS 2021 150\n",
      "TVS 2021 100\n",
      "KTM 2019 160\n",
      "KTM 2019 150\n",
      "KTM 2019 100\n",
      "KTM 2020 160\n",
      "KTM 2020 150\n",
      "KTM 2020 100\n",
      "KTM 2021 160\n",
      "KTM 2021 150\n",
      "KTM 2021 100\n",
      "HONDA 2019 160\n",
      "HONDA 2019 150\n",
      "HONDA 2019 100\n",
      "HONDA 2020 160\n",
      "HONDA 2020 150\n",
      "HONDA 2020 100\n",
      "HONDA 2021 160\n",
      "HONDA 2021 150\n",
      "HONDA 2021 100\n"
     ]
    }
   ],
   "source": [
    "make =[\"TVS\",\"KTM\",\"HONDA\"]\n",
    "year=[\"2019\",\"2020\",\"2021\"]\n",
    "cc=[\"160\",\"150\",\"100\"]\n",
    "\n",
    "for item in make:\n",
    "    for item1 in year:\n",
    "        for item2 in cc:\n",
    "            print(item,item1,item2)\n"
   ]
  },
  {
   "cell_type": "markdown",
   "id": "037e7e83-6c54-4cc8-8278-2e2d1aba51fa",
   "metadata": {},
   "source": [
    "# List "
   ]
  },
  {
   "cell_type": "code",
   "execution_count": 52,
   "id": "f7c8c69a-3136-4676-af7d-87cf516dd431",
   "metadata": {},
   "outputs": [
    {
     "name": "stdout",
     "output_type": "stream",
     "text": [
      "['bike', 'CAR', 'train', 12, 34, 45]\n",
      "['bike', 'CAR', 'train', 12, 34, 45, 'E-bike']\n",
      "['bike', 'CAR', 'train', 12, 45, 'E-bike']\n",
      "1\n",
      "4\n",
      "[14, 'CAR', 'train', 12, 45, 'E-bike', 'santhu', 'harish']\n"
     ]
    }
   ],
   "source": [
    "list=[\"bike\",\"CAR\",\"train\",12,34,45]\n",
    "print(list)\n",
    "list.append(\"E-bike\")\n",
    "print(list)\n",
    "list.remove(34)\n",
    "print(list)\n",
    "list.insert(1,14)\n",
    "list2=list.copy()\n",
    "print(list.count(12))\n",
    "list.pop(0)\n",
    "list.extend([\"santhu\",\"harish\"])\n",
    "print(list.index(45))\n",
    "print(list)"
   ]
  },
  {
   "cell_type": "markdown",
   "id": "d9bd56e4-81d2-4129-92ff-1c78d676f94a",
   "metadata": {},
   "source": [
    "# Tuple"
   ]
  },
  {
   "cell_type": "code",
   "execution_count": 121,
   "id": "54524350-ac02-408c-8224-b74e9b32a469",
   "metadata": {},
   "outputs": [
    {
     "name": "stdout",
     "output_type": "stream",
     "text": [
      "<class 'tuple'>\n",
      "('bike', 'CAR', 'train', 12, 34, 45)\n"
     ]
    }
   ],
   "source": [
    "tuple1=(\"bike\",\"CAR\",\"train\",12,34,45)\n",
    "print(type(tuple1))\n",
    "print(tuple1)"
   ]
  },
  {
   "cell_type": "markdown",
   "id": "e061caa3-637b-4da6-8284-51d0d5b8bb36",
   "metadata": {},
   "source": [
    "# dictionary"
   ]
  },
  {
   "cell_type": "code",
   "execution_count": 119,
   "id": "5fbfdd4c-a8ad-4928-afed-235a327f3460",
   "metadata": {},
   "outputs": [
    {
     "name": "stdout",
     "output_type": "stream",
     "text": [
      "{'bike': 22, 'car': 24, 'bus': 25}\n",
      "dict_keys(['bike', 'car', 'bus'])\n",
      "dict_values([22, 24, 25])\n",
      "dict_items([('bike', 22), ('car', 24), ('bus', 25)])\n",
      "{'bike': (23, 24, 25), 'CAR': (23, 24, 25), 'train': (23, 24, 25), 12: (23, 24, 25), 34: (23, 24, 25), 45: (23, 24, 25)}\n",
      "22\n",
      "(23, 24, 25)\n",
      "(45, (23, 24, 25))\n"
     ]
    }
   ],
   "source": [
    "dict1={'bike':22,'car':24,'bus':25}\n",
    "print(dict1)\n",
    "print(dict1.keys())\n",
    "print(dict1.values())\n",
    "print(dict1.items())\n",
    "dict1.fromkeys(\"bike\")\n",
    "tuple1=(\"bike\",\"CAR\",\"train\",12,34,45)\n",
    "y=(23,24,25)\n",
    "dict2=dict.fromkeys(tuple1,y)\n",
    "print(dict2)\n",
    "print(dict1.get(\"bike\"))\n",
    "print(dict2.pop(\"CAR\"))\n",
    "print(dict2.popitem())\n"
   ]
  },
  {
   "cell_type": "markdown",
   "id": "f3e67c1f-14b2-4a9d-918b-f1a7ccf6eb1e",
   "metadata": {},
   "source": [
    "# set"
   ]
  },
  {
   "cell_type": "code",
   "execution_count": 127,
   "id": "050611b0-4604-483a-8211-7c27ac8b6152",
   "metadata": {},
   "outputs": [
    {
     "name": "stdout",
     "output_type": "stream",
     "text": [
      "set()\n",
      "<class 'set'>\n"
     ]
    }
   ],
   "source": [
    "set1=set()\n",
    "print(set1)\n",
    "print(type(set1))"
   ]
  },
  {
   "cell_type": "code",
   "execution_count": 146,
   "id": "c198b33c-3802-48d1-a005-b7d2bcdafad5",
   "metadata": {},
   "outputs": [
    {
     "name": "stdout",
     "output_type": "stream",
     "text": [
      "{12, 5, 14}\n",
      "{4, 5, 6, 7, 12, 13, 14, 15}\n",
      "{4, 6, 7, 13, 15}\n"
     ]
    }
   ],
   "source": [
    "set1={12,13,14,12,4,5,6}\n",
    "set2={12,15,14,5,7}\n",
    "set3=set1.intersection(set2)\n",
    "print(set3)\n",
    "set4=set1.union(set2)\n",
    "print(set4)\n",
    "set5=set1.symmetric_difference(set2)\n",
    "print(set5)"
   ]
  },
  {
   "cell_type": "markdown",
   "id": "a02f35f2-095d-4860-825f-089223ce65be",
   "metadata": {},
   "source": [
    "# module "
   ]
  },
  {
   "cell_type": "code",
   "execution_count": 158,
   "id": "0d150d04-0f46-41e3-a4bb-2b436af1af9f",
   "metadata": {},
   "outputs": [
    {
     "name": "stdout",
     "output_type": "stream",
     "text": [
      "2.0\n",
      "9.0\n"
     ]
    }
   ],
   "source": [
    "import math\n",
    "print(math.sqrt(4))\n",
    "print(math.pow(3,2))"
   ]
  },
  {
   "cell_type": "code",
   "execution_count": null,
   "id": "a268a37c-b9bb-4fd4-a23a-0d7b93bdf2d7",
   "metadata": {},
   "outputs": [],
   "source": []
  }
 ],
 "metadata": {
  "kernelspec": {
   "display_name": "Python 3 (ipykernel)",
   "language": "python",
   "name": "python3"
  },
  "language_info": {
   "codemirror_mode": {
    "name": "ipython",
    "version": 3
   },
   "file_extension": ".py",
   "mimetype": "text/x-python",
   "name": "python",
   "nbconvert_exporter": "python",
   "pygments_lexer": "ipython3",
   "version": "3.12.4"
  }
 },
 "nbformat": 4,
 "nbformat_minor": 5
}
