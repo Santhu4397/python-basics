{
 "cells": [
  {
   "cell_type": "code",
   "execution_count": 27,
   "id": "3d7a878c-46fb-43f3-b9a0-f84c50d030e9",
   "metadata": {},
   "outputs": [
    {
     "name": "stdout",
     "output_type": "stream",
     "text": [
      "-3\n",
      "16\n",
      "None\n"
     ]
    }
   ],
   "source": [
    "from random import randint,randrange,shuffle\n",
    "\n",
    "print(randint(-10,-1))\n",
    "\n",
    "print(randrange(0,20,1))\n",
    "\n",
    "\n",
    "bikes=['tvs','honda','ktm']\n",
    "print (shuffle(bikes))"
   ]
  },
  {
   "cell_type": "markdown",
   "id": "cc5e57ba-c7b7-44d6-8dcc-236c5db3b5f8",
   "metadata": {},
   "source": [
    "# Creating Functions"
   ]
  },
  {
   "cell_type": "code",
   "execution_count": 32,
   "id": "8fe1e7f9-813e-441f-8833-5bcd381842db",
   "metadata": {},
   "outputs": [],
   "source": [
    "def hello(name,place,age):\n",
    "    print(name,\"welocome to\",place,\"your age\",age)\n"
   ]
  },
  {
   "cell_type": "code",
   "execution_count": 34,
   "id": "b60b3fc5-0ff3-41c4-8115-df6a09e886c7",
   "metadata": {},
   "outputs": [
    {
     "name": "stdout",
     "output_type": "stream",
     "text": [
      "santhosh welocome to hassan your age 24\n"
     ]
    }
   ],
   "source": [
    "hello('santhosh','hassan',24)"
   ]
  },
  {
   "cell_type": "code",
   "execution_count": 36,
   "id": "90e046e7-195b-427f-8ef7-f3db4d6c59f4",
   "metadata": {},
   "outputs": [],
   "source": [
    "def hello(*a):\n",
    "    print(a)"
   ]
  },
  {
   "cell_type": "code",
   "execution_count": 40,
   "id": "8068d5d5-efba-466a-b474-1eeaf2e2a840",
   "metadata": {},
   "outputs": [
    {
     "name": "stdout",
     "output_type": "stream",
     "text": [
      "('c++', 'java', 'python', 89)\n"
     ]
    }
   ],
   "source": [
    "hello(\"c++\",\"java\",\"python\",89)"
   ]
  },
  {
   "cell_type": "code",
   "execution_count": 42,
   "id": "85ebac73-cbd1-4f85-9b35-9f5735965a6f",
   "metadata": {},
   "outputs": [],
   "source": [
    "def func(**dec):\n",
    "    for x in dec:\n",
    "        print(x)"
   ]
  },
  {
   "cell_type": "code",
   "execution_count": 46,
   "id": "42af9b53-d48d-41ab-a844-e455095575c3",
   "metadata": {},
   "outputs": [
    {
     "name": "stdout",
     "output_type": "stream",
     "text": [
      "car\n",
      "bike\n",
      "('c++', 'java', 'python', 89)\n"
     ]
    }
   ],
   "source": [
    "func(car=1,bike=2)\n",
    "hello(\"c++\",\"java\",\"python\",89)"
   ]
  },
  {
   "cell_type": "code",
   "execution_count": 62,
   "id": "d9292bce-fc83-4b21-b899-ebd043f0adf8",
   "metadata": {},
   "outputs": [
    {
     "ename": "ZeroDivisionError",
     "evalue": "division by zero",
     "output_type": "error",
     "traceback": [
      "\u001b[1;31m---------------------------------------------------------------------------\u001b[0m",
      "\u001b[1;31mZeroDivisionError\u001b[0m                         Traceback (most recent call last)",
      "Cell \u001b[1;32mIn[62], line 7\u001b[0m\n\u001b[0;32m      3\u001b[0m marks \u001b[38;5;241m=\u001b[39m \u001b[38;5;241m10000\u001b[39m\n\u001b[0;32m      5\u001b[0m \u001b[38;5;66;03m# perform division with 0\u001b[39;00m\n\u001b[1;32m----> 7\u001b[0m a \u001b[38;5;241m=\u001b[39m marks \u001b[38;5;241m/\u001b[39m \u001b[38;5;241m0\u001b[39m\n\u001b[0;32m      9\u001b[0m \u001b[38;5;28mprint\u001b[39m(a)\n",
      "\u001b[1;31mZeroDivisionError\u001b[0m: division by zero"
     ]
    }
   ],
   "source": [
    "# initialize the amount variable\n",
    "\n",
    "marks = 10000\n",
    " \n",
    "# perform division with 0\n",
    "\n",
    "a = marks / 0\n",
    "\n",
    "print(a)\n",
    "\n",
    " "
   ]
  },
  {
   "cell_type": "code",
   "execution_count": 64,
   "id": "7b574fad-00b8-4f3c-b294-304dbb6a8678",
   "metadata": {},
   "outputs": [
    {
     "name": "stdout",
     "output_type": "stream",
     "text": [
      "First element = 2\n",
      "An error occurred\n"
     ]
    }
   ],
   "source": [
    "#Error handling\n",
    "\n",
    "a = [1, 2, 3]\n",
    "\n",
    "try:\n",
    "\n",
    "    print (\"First element = {}\".format(a[1]))\n",
    "\n",
    "    print (\"Second element = {}\".format(a[-4]))\n",
    " \n",
    "except:\n",
    "\n",
    "    print (\"An error occurred\")\n"
   ]
  },
  {
   "cell_type": "code",
   "execution_count": 66,
   "id": "14fff9a6-a59c-49e3-8c72-b0ec9657f22c",
   "metadata": {},
   "outputs": [
    {
     "name": "stdout",
     "output_type": "stream",
     "text": [
      "Value of b =  -2.0\n"
     ]
    }
   ],
   "source": [
    "def fun(a):\n",
    "\n",
    "    if a < 4: # T\n",
    "\n",
    "        b = a/(a-3) # -2\n",
    "\n",
    "    print(\"Value of b = \", b) #-2\n",
    "\n",
    "try:\n",
    "\n",
    "    fun(2)\n",
    "\n",
    "   # fun(3)\n",
    "\n",
    "   # fun(4)\n",
    "\n",
    "  #  fun(5)\n",
    "\n",
    "except ZeroDivisionError:\n",
    "\n",
    "    print(\"ZeroDivisionError Occurred and Handled\")\n",
    "\n",
    "except NameError:\n",
    "\n",
    "    print(\"NameError Occurred and Handled\")"
   ]
  },
  {
   "cell_type": "code",
   "execution_count": 68,
   "id": "f52a873b-fd54-406f-b31e-77f0fe7f31fe",
   "metadata": {},
   "outputs": [
    {
     "name": "stdout",
     "output_type": "stream",
     "text": [
      "Can't divide by zero\n",
      "This is always executed\n"
     ]
    }
   ],
   "source": [
    "# Python program to demonstrate finally\n",
    " \n",
    "# No exception Exception raised in try block\n",
    "\n",
    "try:\n",
    "\n",
    "    k = 5//0\n",
    "\n",
    "    print(k)\n",
    " \n",
    " \n",
    "except ZeroDivisionError:\n",
    "\n",
    "    print(\"Can't divide by zero\")\n",
    " \n",
    "finally:\n",
    "\n",
    "    print('This is always executed')"
   ]
  },
  {
   "cell_type": "code",
   "execution_count": 82,
   "id": "3ebf824e-31ba-4162-aea0-cfa32b3582ea",
   "metadata": {},
   "outputs": [
    {
     "name": "stdout",
     "output_type": "stream",
     "text": [
      "The entry is a\n",
      "Oops! [ValueError(\"invalid literal for int() with base 10: 'a'\")] occurred.\n",
      "Next entry.\n",
      "\n",
      "The entry is 0\n",
      "Oops! [ZeroDivisionError('division by zero')] occurred.\n",
      "Next entry.\n",
      "\n",
      "The entry is 2\n",
      "The entry is 4\n",
      "['a', 0, 2, 4]\n",
      "The reciprocal of 4 is 0.25\n"
     ]
    }
   ],
   "source": [
    " \n",
    "# import module sys to get the type of exception\n",
    "\n",
    "import sys # sys module\n",
    " \n",
    "randomList = ['a', 0, 2,4]\n",
    "\n",
    "#randomList = ['a',0]\n",
    "\n",
    "for entry in randomList:\n",
    "\n",
    "    try:\n",
    "\n",
    "        print(\"The entry is\", entry)\n",
    "\n",
    "        r = 1/int(entry)\n",
    "\n",
    "        # break\n",
    "\n",
    "    except:\n",
    "\n",
    "        print(\"Oops!\", [sys.exc_info()[1]], \"occurred.\")\n",
    "\n",
    "        # print(sys.exc_info())\n",
    "\n",
    "        print(\"Next entry.\")\n",
    "\n",
    "        print()\n",
    "print(randomList) \n",
    "print(\"The reciprocal of\", entry, \"is\", r)\n"
   ]
  },
  {
   "cell_type": "code",
   "execution_count": 58,
   "id": "16f754c0-7e9e-4616-bce4-90f1ae06fcfd",
   "metadata": {},
   "outputs": [
    {
     "ename": "AssertionError",
     "evalue": "Nonsense Operation",
     "output_type": "error",
     "traceback": [
      "\u001b[1;31m---------------------------------------------------------------------------\u001b[0m",
      "\u001b[1;31mAssertionError\u001b[0m                            Traceback (most recent call last)",
      "Cell \u001b[1;32mIn[58], line 7\u001b[0m\n\u001b[0;32m      3\u001b[0m x \u001b[38;5;241m=\u001b[39m \u001b[38;5;241m1\u001b[39m\n\u001b[0;32m      5\u001b[0m y \u001b[38;5;241m=\u001b[39m \u001b[38;5;241m0\u001b[39m\n\u001b[1;32m----> 7\u001b[0m \u001b[38;5;28;01massert\u001b[39;00m y \u001b[38;5;241m!=\u001b[39m \u001b[38;5;241m0\u001b[39m, \u001b[38;5;124m\"\u001b[39m\u001b[38;5;124mNonsense Operation\u001b[39m\u001b[38;5;124m\"\u001b[39m \u001b[38;5;66;03m# denominator can't be 0\u001b[39;00m\n\u001b[0;32m      9\u001b[0m \u001b[38;5;28mprint\u001b[39m(x \u001b[38;5;241m/\u001b[39m y)\n",
      "\u001b[1;31mAssertionError\u001b[0m: Nonsense Operation"
     ]
    }
   ],
   "source": [
    "# AssertionError with error_message.\n",
    "\n",
    "x = 1\n",
    "\n",
    "y = 0\n",
    "\n",
    "assert y != 0, \"Nonsense Operation\" # denominator can't be 0\n",
    "\n",
    "print(x / y)\n"
   ]
  },
  {
   "cell_type": "code",
   "execution_count": 60,
   "id": "de61440a-3547-4839-9121-ce2030e6b0fe",
   "metadata": {},
   "outputs": [
    {
     "name": "stdout",
     "output_type": "stream",
     "text": [
      "Nonsense Operation\n"
     ]
    }
   ],
   "source": [
    " # Handling it manually\n",
    "\n",
    "  try:\n",
    "\n",
    "      x = 1\n",
    "\n",
    "      y = 0\n",
    "\n",
    "      assert y != 0, \"Nonsense Operation\"\n",
    "\n",
    "      print(x / y)\n",
    " \n",
    "  # the errror_message provided by the user gets printed\n",
    "\n",
    "  except AssertionError as msg:\n",
    "\n",
    "      print(msg)"
   ]
  },
  {
   "cell_type": "markdown",
   "id": "bcd1ba11-6fda-4a12-a54f-0914a7521708",
   "metadata": {},
   "source": [
    "# List Comprehension"
   ]
  },
  {
   "cell_type": "code",
   "execution_count": 95,
   "id": "75ff82d2-8fa7-4e5d-8d2b-adced51db9f5",
   "metadata": {},
   "outputs": [
    {
     "name": "stdout",
     "output_type": "stream",
     "text": [
      "[2, 4, 6, 8]\n"
     ]
    }
   ],
   "source": [
    "numbers=[1,2,3,4,5,6,7,8,9]\n",
    "even_num=[a for a in numbers if a%2==0]\n",
    "print(even_num)"
   ]
  },
  {
   "cell_type": "markdown",
   "id": "d8c5026a-2f0c-4949-a672-25c7b881bc55",
   "metadata": {},
   "source": [
    "# Dictionary Comprehension"
   ]
  },
  {
   "cell_type": "code",
   "execution_count": 136,
   "id": "81541e30-61d2-4772-90a2-904560c9df4a",
   "metadata": {},
   "outputs": [
    {
     "name": "stdout",
     "output_type": "stream",
     "text": [
      "banana\n",
      "12\n",
      "orange\n",
      "15\n",
      "kiwi\n",
      "16\n",
      "{'banana': 12, 'kiwi': 16}\n"
     ]
    }
   ],
   "source": [
    "dict1={'banana':12,'orange':15,'kiwi':16}\n",
    "dict1.items()\n",
    "for key,value in dict1.items():\n",
    "    print(key)\n",
    "    print(value)\n",
    "\n",
    "dict2={key:value for key,value in dict1.items() if value%2==0}\n",
    "print(dict2)"
   ]
  },
  {
   "cell_type": "code",
   "execution_count": 120,
   "id": "1da1fee3-f99d-46f9-a236-29ef616f8537",
   "metadata": {},
   "outputs": [
    {
     "name": "stdout",
     "output_type": "stream",
     "text": [
      "{'banana': 12, 'kiwi': 16}\n"
     ]
    }
   ],
   "source": [
    "dict1={'banana':12,'orange':15,'kiwi':16}\n",
    "\n",
    "dict2={key:value  for key,value in dict1.items() if value%2==0}\n",
    "\n",
    "print(dict2)\n",
    " "
   ]
  },
  {
   "cell_type": "markdown",
   "id": "94962ca1-e0fd-448b-8c54-cfbc9d837eaf",
   "metadata": {},
   "source": [
    "# Object Oriented Programming (OOP)"
   ]
  },
  {
   "cell_type": "code",
   "execution_count": 149,
   "id": "729ae772-dec7-470c-a083-43cf37a82c61",
   "metadata": {},
   "outputs": [
    {
     "name": "stdout",
     "output_type": "stream",
     "text": [
      "20\n",
      "10\n"
     ]
    }
   ],
   "source": [
    "class Car():\n",
    "    hounda=10\n",
    "    kia=20\n",
    "car1 = Car()\n",
    "print(car1.kia)\n",
    "print(Car().hounda)"
   ]
  },
  {
   "cell_type": "code",
   "execution_count": 213,
   "id": "ed768e82-d12c-4e39-a7fe-457bff1f88b5",
   "metadata": {},
   "outputs": [
    {
     "name": "stdout",
     "output_type": "stream",
     "text": [
      "santhosh\n",
      "gowda\n"
     ]
    }
   ],
   "source": [
    "class Student():\n",
    "    def __init__(self, first, last, pay):\n",
    "        self.first=first\n",
    "        self.last=last\n",
    "        self.email=first+\".\"+last+\"@gmail.com\"\n",
    "        self.pay=pay\n",
    "\n",
    "stu1 = Student(\"santhosh\",\"gowda\",2000)\n",
    "\n",
    "\n",
    "print(stu1.first)\n",
    "print(stu1.last)\n"
   ]
  },
  {
   "cell_type": "code",
   "execution_count": 161,
   "id": "c3a95625-eb6c-40c7-8cb7-02ed64dcffd0",
   "metadata": {},
   "outputs": [],
   "source": [
    "class Employee():\n",
    "    def __init__(self,first,last,pay):  # when you put 'self' the rest of the variables are mapped to the class\n",
    "        self.first = first\n",
    "        self.last = last\n",
    "        self.email = first+\".\"+last+\"@gmail.com\"\n",
    "        self.pay = pay"
   ]
  },
  {
   "cell_type": "code",
   "execution_count": 165,
   "id": "1527abe0-2249-4fda-840a-2cd261af4332",
   "metadata": {},
   "outputs": [
    {
     "name": "stdout",
     "output_type": "stream",
     "text": [
      "kalyan.ramani@gmail.com\n"
     ]
    }
   ],
   "source": [
    "emp_1  = Employee (\"kalyan\",\"ramani\",60000)\n",
    "emp_2  = Employee (\"subu\",\"muthukrishnan\",50000)\n",
    "\n",
    "print(emp_1.email)"
   ]
  },
  {
   "cell_type": "code",
   "execution_count": null,
   "id": "0f297cae-df07-4468-b6ba-e431947f8aaf",
   "metadata": {},
   "outputs": [],
   "source": []
  }
 ],
 "metadata": {
  "kernelspec": {
   "display_name": "Python 3 (ipykernel)",
   "language": "python",
   "name": "python3"
  },
  "language_info": {
   "codemirror_mode": {
    "name": "ipython",
    "version": 3
   },
   "file_extension": ".py",
   "mimetype": "text/x-python",
   "name": "python",
   "nbconvert_exporter": "python",
   "pygments_lexer": "ipython3",
   "version": "3.12.4"
  }
 },
 "nbformat": 4,
 "nbformat_minor": 5
}
