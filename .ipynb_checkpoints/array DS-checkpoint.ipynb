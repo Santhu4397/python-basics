{
 "cells": [
  {
   "cell_type": "markdown",
   "id": "8aa69939-c4da-4f9b-951d-14424bbfffc9",
   "metadata": {},
   "source": [
    "# Regular Expressions"
   ]
  },
  {
   "cell_type": "code",
   "execution_count": 90,
   "id": "79302175-3d2e-46e8-ae35-5ee6a8626d23",
   "metadata": {},
   "outputs": [
    {
     "name": "stdout",
     "output_type": "stream",
     "text": [
      "<re.Match object; span=(6, 8), match='in'>\n",
      "['in', 'in', 'in']\n",
      "<re.Match object; span=(1, 2), match='h'>\n",
      "['T']\n",
      "['1', '2', '0', '3', '9', '4', '5', '6', '7', '8', '9']\n",
      "<re.Match object; span=(22, 23), match='1'>\n",
      "['hello', 'hemmo', 'henno']\n",
      "[]\n"
     ]
    }
   ],
   "source": [
    "import re\n",
    "\n",
    "txt =\"The rain in the india 12039456789 hello hemmo henno\"\n",
    "\n",
    "x=re.search(\"in\",txt)\n",
    "print(x)\n",
    "\n",
    "x1=re.findall(\"in\",txt)\n",
    "print(x1)\n",
    "x2=re.findall(\"[a-z]\",txt)\n",
    "x2=re.search(\"[a-z]\",txt)\n",
    "print(x2)\n",
    "\n",
    "x3=re.findall(\"[A-Z]\",txt)\n",
    "print(x3)\n",
    "\n",
    "x4=re.findall(\"[0-9]\",txt)\n",
    "print(x4)\n",
    "\n",
    "x5=re.findall(r\"\\d\\d\\d\",txt)\n",
    "x5=re.search(r\"\\d\",txt)\n",
    "print(x5)\n",
    "\n",
    "x6=re.findall(\"he..o\",txt)\n",
    "print(x6)\n",
    "\n",
    "x7=re.findall(r\"\\s\",txt)\n",
    "#print(x7)\n",
    "\n",
    "x8=re.findall(\"A+\",txt)\n",
    "print(x8)\n"
   ]
  },
  {
   "cell_type": "markdown",
   "id": "bb2df149-c907-419a-a8d3-31d21fca7914",
   "metadata": {},
   "source": [
    "# Compiling Regular Expressions"
   ]
  },
  {
   "cell_type": "code",
   "execution_count": 93,
   "id": "bd67158e-3050-46ea-8d22-bfd03fc62a82",
   "metadata": {},
   "outputs": [
    {
     "name": "stdout",
     "output_type": "stream",
     "text": [
      "Help on function compile in module re:\n",
      "\n",
      "compile(pattern, flags=0)\n",
      "    Compile a regular expression pattern, returning a Pattern object.\n",
      "\n"
     ]
    }
   ],
   "source": [
    "help(re.compile)"
   ]
  },
  {
   "cell_type": "code",
   "execution_count": 105,
   "id": "d0a08be2-f9f5-424d-a2c3-edebb5691640",
   "metadata": {},
   "outputs": [
    {
     "name": "stdout",
     "output_type": "stream",
     "text": [
      "<re.Match object; span=(0, 11), match='python team'>\n",
      "(0, 11)\n"
     ]
    }
   ],
   "source": [
    "pat = re.compile(\"python team\")\n",
    "match_com=pat.match(\"python team\")\n",
    "print(match_com)\n",
    "print(match_com.span())"
   ]
  },
  {
   "cell_type": "code",
   "execution_count": 161,
   "id": "1343878f-e1b7-4c61-95dc-1c1f494e6f97",
   "metadata": {},
   "outputs": [
    {
     "name": "stdout",
     "output_type": "stream",
     "text": [
      "<re.Match object; span=(16, 21), match='45-67'>\n",
      "45-67\n",
      "67\n"
     ]
    }
   ],
   "source": [
    "phnum=\"My number is 12345-6789\"\n",
    "gr=re.compile(r'(\\d\\d)-(\\d\\d)')\n",
    "print(gr.search(phnum))\n",
    "group_c=gr.search(phnum)\n",
    "print(group_c.group())\n",
    "print(group_c.group(2))"
   ]
  },
  {
   "cell_type": "markdown",
   "id": "0803fba6-64ab-4015-ad6a-992b30526aab",
   "metadata": {},
   "source": [
    "## x= re.compile(r'Bat(wo)?man')\n",
    "y= re.compile(r'Bat(wo)*man')\n",
    "z= re.compile(r'Bat(wo)+man')\n",
    "groux=x.search('the adventure of Batwoman Batman')\n",
    "print(groux.group())\n",
    "grouy=y.search('the adventure of Batwoman Batwowomaman')\n",
    "print(grouy.group())\n",
    "grouz=z.search('the adventure of Batwoman Batman')\n",
    "print(grouz.group())"
   ]
  },
  {
   "cell_type": "code",
   "execution_count": 173,
   "id": "4c22c47a-a377-44b0-94b7-61e8d0a298be",
   "metadata": {},
   "outputs": [
    {
     "name": "stdout",
     "output_type": "stream",
     "text": [
      "<callable_iterator object at 0x000002A7C4E33BB0>\n",
      "<re.Match object; span=(24, 36), match='PINEAPPLE 20'>\n",
      "PINEAPPLE\n",
      "20\n",
      "<re.Match object; span=(37, 45), match='MANGO 30'>\n",
      "MANGO\n",
      "30\n",
      "<re.Match object; span=(46, 58), match='CHOCOLATE 40'>\n",
      "CHOCOLATE\n",
      "40\n"
     ]
    }
   ],
   "source": [
    "import re\n",
    " \n",
    "target_string = \"The price of ice-creams PINEAPPLE 20 MANGO 30 CHOCOLATE 40\"\n",
    " \n",
    "# two groups enclosed in separate ( and ) bracket\n",
    "# group 1: find all uppercase letter\n",
    "# group 2: find all numbers\n",
    "# you can compile a pattern or directly pass to the finditer() method\n",
    "# '.' matches/accepts/verifies any single character for the place it is holding in the regular expression.\n",
    "# + saying “one or more times”\n",
    "#print(target_string.findall(r\"\\b[A-Z]+\\b\"))\n",
    "pattern = re.compile(r\"(\\b[A-Z]+\\b).(\\b\\d+\\b)\")\n",
    "groups = pattern.finditer(target_string)\n",
    "print(groups)\n",
    " \n",
    "# find all matches to groups\n",
    "for match in pattern.finditer(target_string):\n",
    "    # extract words\n",
    "    print(match)\n",
    "    print(match.group(1))\n",
    "    # extract numbers\n",
    "    print(match.group(2))\n"
   ]
  },
  {
   "cell_type": "code",
   "execution_count": 214,
   "id": "811ae4fa-3a4e-4621-b2d5-def5e5c81a03",
   "metadata": {},
   "outputs": [
    {
     "name": "stdout",
     "output_type": "stream",
     "text": [
      "loop one : 0 loop two:  0  value1:  64 value2: 34\n",
      "loop one : 0 loop two:  1  value1:  64 value2: 25\n",
      "loop one : 0 loop two:  2  value1:  64 value2: 12\n",
      "loop one : 0 loop two:  3  value1:  64 value2: 22\n",
      "loop one : 0 loop two:  4  value1:  64 value2: 11\n",
      "loop one : 0 loop two:  6  value1:  90 value2: 5\n",
      "loop one : 1 loop two:  0  value1:  34 value2: 25\n",
      "loop one : 1 loop two:  1  value1:  34 value2: 12\n",
      "loop one : 1 loop two:  2  value1:  34 value2: 22\n",
      "loop one : 1 loop two:  3  value1:  34 value2: 11\n",
      "loop one : 1 loop two:  5  value1:  64 value2: 5\n",
      "loop one : 2 loop two:  0  value1:  25 value2: 12\n",
      "loop one : 2 loop two:  1  value1:  25 value2: 22\n",
      "loop one : 2 loop two:  2  value1:  25 value2: 11\n",
      "loop one : 2 loop two:  4  value1:  34 value2: 5\n",
      "loop one : 3 loop two:  1  value1:  22 value2: 11\n",
      "loop one : 3 loop two:  3  value1:  25 value2: 5\n",
      "loop one : 4 loop two:  0  value1:  12 value2: 11\n",
      "loop one : 4 loop two:  2  value1:  22 value2: 5\n",
      "loop one : 5 loop two:  1  value1:  12 value2: 5\n",
      "loop one : 6 loop two:  0  value1:  11 value2: 5\n",
      "Sorted array: [5, 11, 12, 22, 25, 34, 64, 90]\n"
     ]
    }
   ],
   "source": [
    "my_array = [64, 34, 25, 12, 22, 11, 90, 5]\n",
    "\n",
    "n = len(my_array)\n",
    "for i in range(n-1):\n",
    "    for j in range(n-i-1):\n",
    "        if my_array[j] > my_array[j+1]:\n",
    "            my_array[j], my_array[j+1] = my_array[j+1], my_array[j]\n",
    "            print ('loop one :' , i, 'loop two: ', j, ' value1: ', my_array[j+1], 'value2:', my_array[j])\n",
    "print(\"Sorted array:\", my_array)"
   ]
  },
  {
   "cell_type": "code",
   "execution_count": 208,
   "id": "1ca3078f-1220-4805-acdc-6681c72e56ca",
   "metadata": {},
   "outputs": [
    {
     "name": "stdout",
     "output_type": "stream",
     "text": [
      "i range range(0, 7)\n",
      "J ranfe range(0, 7)\n",
      "i 0\n",
      "j 0\n",
      "my_array[j] 64\n",
      "my_array[j+1] 34\n",
      "J ranfe range(0, 7)\n",
      "i 0\n",
      "j 1\n",
      "my_array[j] 64\n",
      "my_array[j+1] 25\n",
      "J ranfe range(0, 7)\n",
      "i 0\n",
      "j 2\n",
      "my_array[j] 64\n",
      "my_array[j+1] 12\n",
      "J ranfe range(0, 7)\n",
      "i 0\n",
      "j 3\n",
      "my_array[j] 64\n",
      "my_array[j+1] 22\n",
      "J ranfe range(0, 7)\n",
      "i 0\n",
      "j 4\n",
      "my_array[j] 64\n",
      "my_array[j+1] 11\n",
      "J ranfe range(0, 7)\n",
      "J ranfe range(0, 7)\n",
      "i 0\n",
      "j 6\n",
      "my_array[j] 90\n",
      "my_array[j+1] 5\n",
      "i range range(0, 7)\n",
      "J ranfe range(0, 6)\n",
      "i 1\n",
      "j 0\n",
      "my_array[j] 34\n",
      "my_array[j+1] 25\n",
      "J ranfe range(0, 6)\n",
      "i 1\n",
      "j 1\n",
      "my_array[j] 34\n",
      "my_array[j+1] 12\n",
      "J ranfe range(0, 6)\n",
      "i 1\n",
      "j 2\n",
      "my_array[j] 34\n",
      "my_array[j+1] 22\n",
      "J ranfe range(0, 6)\n",
      "i 1\n",
      "j 3\n",
      "my_array[j] 34\n",
      "my_array[j+1] 11\n",
      "J ranfe range(0, 6)\n",
      "J ranfe range(0, 6)\n",
      "i 1\n",
      "j 5\n",
      "my_array[j] 64\n",
      "my_array[j+1] 5\n",
      "i range range(0, 7)\n",
      "J ranfe range(0, 5)\n",
      "i 2\n",
      "j 0\n",
      "my_array[j] 25\n",
      "my_array[j+1] 12\n",
      "J ranfe range(0, 5)\n",
      "i 2\n",
      "j 1\n",
      "my_array[j] 25\n",
      "my_array[j+1] 22\n",
      "J ranfe range(0, 5)\n",
      "i 2\n",
      "j 2\n",
      "my_array[j] 25\n",
      "my_array[j+1] 11\n",
      "J ranfe range(0, 5)\n",
      "J ranfe range(0, 5)\n",
      "i 2\n",
      "j 4\n",
      "my_array[j] 34\n",
      "my_array[j+1] 5\n",
      "i range range(0, 7)\n",
      "J ranfe range(0, 4)\n",
      "J ranfe range(0, 4)\n",
      "i 3\n",
      "j 1\n",
      "my_array[j] 22\n",
      "my_array[j+1] 11\n",
      "J ranfe range(0, 4)\n",
      "J ranfe range(0, 4)\n",
      "i 3\n",
      "j 3\n",
      "my_array[j] 25\n",
      "my_array[j+1] 5\n",
      "i range range(0, 7)\n",
      "J ranfe range(0, 3)\n",
      "i 4\n",
      "j 0\n",
      "my_array[j] 12\n",
      "my_array[j+1] 11\n",
      "J ranfe range(0, 3)\n",
      "J ranfe range(0, 3)\n",
      "i 4\n",
      "j 2\n",
      "my_array[j] 22\n",
      "my_array[j+1] 5\n",
      "i range range(0, 7)\n",
      "J ranfe range(0, 2)\n",
      "J ranfe range(0, 2)\n",
      "i 5\n",
      "j 1\n",
      "my_array[j] 12\n",
      "my_array[j+1] 5\n",
      "i range range(0, 7)\n",
      "J ranfe range(0, 1)\n",
      "i 6\n",
      "j 0\n",
      "my_array[j] 11\n",
      "my_array[j+1] 5\n",
      "Sorted array: [5, 11, 12, 22, 25, 34, 64, 90]\n"
     ]
    }
   ],
   "source": [
    "my_array = [64, 34, 25, 12, 22, 11, 90, 5]\n",
    "\n",
    "n= len(my_array)\n",
    "\n",
    "for i in range(n-1):\n",
    "    print(\"i range\",range(n-1))\n",
    "    for j in range(n-i-1):\n",
    "        print(\"J ranfe\",range(n-i-1))\n",
    "        if my_array[j]>my_array[j+1]:\n",
    "            print(\"i\",i)\n",
    "            print(\"j\",j)\n",
    "            print(\"my_array[j]\",my_array[j])\n",
    "            print(\"my_array[j+1]\",my_array[j+1])\n",
    "            my_array[j], my_array[j+1] = my_array[j+1], my_array[j]\n",
    "  \n",
    "print(\"Sorted array:\", my_array)   \n"
   ]
  },
  {
   "cell_type": "code",
   "execution_count": 216,
   "id": "a510d6bd-e56c-427c-b63a-c7d896bd1e3b",
   "metadata": {},
   "outputs": [
    {
     "name": "stdout",
     "output_type": "stream",
     "text": [
      "Action 1 - position from: 0 pick value: 64\n",
      "loop one: 1 loop two: 1  value1: 34 value2: 34\n",
      "loop one: 2 loop two: 2  value1: 25 value2: 25\n",
      "loop one: 3 loop two: 3  value1: 12 value2: 12\n",
      "loop one: 4 loop two: 4  value1: 22 value2: 22\n",
      "loop one: 5 loop two: 5  value1: 11 value2: 11\n",
      "Action 1 - position from: 1 pick value: 5\n",
      "loop one: 2 loop two: 2  value1: 25 value2: 25\n",
      "loop one: 3 loop two: 3  value1: 12 value2: 12\n",
      "loop one: 4 loop two: 4  value1: 22 value2: 22\n",
      "loop one: 2 loop two: 3  value1: 25 value2: 12\n",
      "Action 1 - position from: 2 pick value: 12\n",
      "Action 2 - Into position: 4 push value: 25\n",
      "Action 1 - position from: 2 pick value: 25\n",
      "Action 2 - Into position: 5 push value: 64\n",
      "Action 2 - Into position: 5 push value: 12\n",
      "Action 1 - position from: 1 pick value: 34\n",
      "Action 2 - Into position: 7 push value: 90\n",
      "Action 2 - Into position: 7 push value: 11\n",
      "Quick Sorted array: [5, 11, 12, 22, 25, 34, 64, 90]\n"
     ]
    }
   ],
   "source": [
    "def partition(array, low, high):\n",
    "    pivot = array[high]\n",
    "    i = low - 1\n",
    " \n",
    "    for j in range(low, high):\n",
    "        if array[j] <= pivot:\n",
    "            i += 1\n",
    "            array[i], array[j] = array[j], array[i]\n",
    "            print ('loop one:', i, 'loop two:', j, ' value1:', my_array[j], 'value2:', array[i])\n",
    " \n",
    "    array[i+1], array[high] = array[high], array[i+1]\n",
    "    return i+1\n",
    " \n",
    "def quicksort(array, low=0, high=None):\n",
    "    if high is None:\n",
    "        high = len(array) - 1\n",
    " \n",
    "    if low < high:\n",
    "        pivot_index = partition(array, low, high)\n",
    "        quicksort(array, low, pivot_index-1)\n",
    "        print ('Action 1 - position from:' , low, 'pick value:', array[pivot_index-1])\n",
    "        quicksort(array, pivot_index+1, high)\n",
    "        print ('Action 2 - Into position:' , high, 'push value:', array[pivot_index+1])\n",
    " \n",
    "my_array = [64, 34, 25, 12, 22, 11, 90, 5]\n",
    "quicksort(my_array)\n",
    "print(\"Quick Sorted array:\", my_array)"
   ]
  },
  {
   "cell_type": "code",
   "execution_count": null,
   "id": "f320f548-62a2-46c3-9881-3820d1eab59a",
   "metadata": {},
   "outputs": [],
   "source": []
  },
  {
   "cell_type": "code",
   "execution_count": null,
   "id": "fdd20657-a79e-45c8-98d7-ff04fa7a2b02",
   "metadata": {},
   "outputs": [],
   "source": []
  }
 ],
 "metadata": {
  "kernelspec": {
   "display_name": "Python 3 (ipykernel)",
   "language": "python",
   "name": "python3"
  },
  "language_info": {
   "codemirror_mode": {
    "name": "ipython",
    "version": 3
   },
   "file_extension": ".py",
   "mimetype": "text/x-python",
   "name": "python",
   "nbconvert_exporter": "python",
   "pygments_lexer": "ipython3",
   "version": "3.12.4"
  }
 },
 "nbformat": 4,
 "nbformat_minor": 5
}
